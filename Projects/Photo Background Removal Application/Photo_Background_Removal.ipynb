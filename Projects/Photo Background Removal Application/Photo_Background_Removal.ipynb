{
  "cells": [
    {
      "cell_type": "code",
      "execution_count": null,
      "metadata": {
        "colab": {
          "base_uri": "https://localhost:8080/"
        },
        "id": "ZtU0XwVqCveB",
        "outputId": "c9c998b3-6607-44fb-c19f-b25c6ddecb9e"
      },
      "outputs": [
        {
          "name": "stdout",
          "output_type": "stream",
          "text": [
            "Requirement already satisfied: rembg in /usr/local/lib/python3.10/dist-packages (2.0.59)\n",
            "Requirement already satisfied: jsonschema in /usr/local/lib/python3.10/dist-packages (from rembg) (4.23.0)\n",
            "Requirement already satisfied: numpy in /usr/local/lib/python3.10/dist-packages (from rembg) (1.26.4)\n",
            "Requirement already satisfied: onnxruntime in /usr/local/lib/python3.10/dist-packages (from rembg) (1.19.2)\n",
            "Requirement already satisfied: opencv-python-headless in /usr/local/lib/python3.10/dist-packages (from rembg) (4.10.0.84)\n",
            "Requirement already satisfied: pillow in /usr/local/lib/python3.10/dist-packages (from rembg) (10.4.0)\n",
            "Requirement already satisfied: pooch in /usr/local/lib/python3.10/dist-packages (from rembg) (1.8.2)\n",
            "Requirement already satisfied: pymatting in /usr/local/lib/python3.10/dist-packages (from rembg) (1.1.12)\n",
            "Requirement already satisfied: scikit-image in /usr/local/lib/python3.10/dist-packages (from rembg) (0.23.2)\n",
            "Requirement already satisfied: scipy in /usr/local/lib/python3.10/dist-packages (from rembg) (1.13.1)\n",
            "Requirement already satisfied: tqdm in /usr/local/lib/python3.10/dist-packages (from rembg) (4.66.5)\n",
            "Requirement already satisfied: attrs>=22.2.0 in /usr/local/lib/python3.10/dist-packages (from jsonschema->rembg) (24.2.0)\n",
            "Requirement already satisfied: jsonschema-specifications>=2023.03.6 in /usr/local/lib/python3.10/dist-packages (from jsonschema->rembg) (2023.12.1)\n",
            "Requirement already satisfied: referencing>=0.28.4 in /usr/local/lib/python3.10/dist-packages (from jsonschema->rembg) (0.35.1)\n",
            "Requirement already satisfied: rpds-py>=0.7.1 in /usr/local/lib/python3.10/dist-packages (from jsonschema->rembg) (0.20.0)\n",
            "Requirement already satisfied: coloredlogs in /usr/local/lib/python3.10/dist-packages (from onnxruntime->rembg) (15.0.1)\n",
            "Requirement already satisfied: flatbuffers in /usr/local/lib/python3.10/dist-packages (from onnxruntime->rembg) (24.3.25)\n",
            "Requirement already satisfied: packaging in /usr/local/lib/python3.10/dist-packages (from onnxruntime->rembg) (24.1)\n",
            "Requirement already satisfied: protobuf in /usr/local/lib/python3.10/dist-packages (from onnxruntime->rembg) (3.20.3)\n",
            "Requirement already satisfied: sympy in /usr/local/lib/python3.10/dist-packages (from onnxruntime->rembg) (1.13.2)\n",
            "Requirement already satisfied: platformdirs>=2.5.0 in /usr/local/lib/python3.10/dist-packages (from pooch->rembg) (4.3.3)\n",
            "Requirement already satisfied: requests>=2.19.0 in /usr/local/lib/python3.10/dist-packages (from pooch->rembg) (2.32.3)\n",
            "Requirement already satisfied: numba!=0.49.0 in /usr/local/lib/python3.10/dist-packages (from pymatting->rembg) (0.60.0)\n",
            "Requirement already satisfied: networkx>=2.8 in /usr/local/lib/python3.10/dist-packages (from scikit-image->rembg) (3.3)\n",
            "Requirement already satisfied: imageio>=2.33 in /usr/local/lib/python3.10/dist-packages (from scikit-image->rembg) (2.35.1)\n",
            "Requirement already satisfied: tifffile>=2022.8.12 in /usr/local/lib/python3.10/dist-packages (from scikit-image->rembg) (2024.8.30)\n",
            "Requirement already satisfied: lazy-loader>=0.4 in /usr/local/lib/python3.10/dist-packages (from scikit-image->rembg) (0.4)\n",
            "Requirement already satisfied: llvmlite<0.44,>=0.43.0dev0 in /usr/local/lib/python3.10/dist-packages (from numba!=0.49.0->pymatting->rembg) (0.43.0)\n",
            "Requirement already satisfied: charset-normalizer<4,>=2 in /usr/local/lib/python3.10/dist-packages (from requests>=2.19.0->pooch->rembg) (3.3.2)\n",
            "Requirement already satisfied: idna<4,>=2.5 in /usr/local/lib/python3.10/dist-packages (from requests>=2.19.0->pooch->rembg) (3.10)\n",
            "Requirement already satisfied: urllib3<3,>=1.21.1 in /usr/local/lib/python3.10/dist-packages (from requests>=2.19.0->pooch->rembg) (2.0.7)\n",
            "Requirement already satisfied: certifi>=2017.4.17 in /usr/local/lib/python3.10/dist-packages (from requests>=2.19.0->pooch->rembg) (2024.8.30)\n",
            "Requirement already satisfied: humanfriendly>=9.1 in /usr/local/lib/python3.10/dist-packages (from coloredlogs->onnxruntime->rembg) (10.0)\n",
            "Requirement already satisfied: mpmath<1.4,>=1.1.0 in /usr/local/lib/python3.10/dist-packages (from sympy->onnxruntime->rembg) (1.3.0)\n"
          ]
        }
      ],
      "source": [
        "!pip install rembg"
      ]
    },
    {
      "cell_type": "code",
      "execution_count": null,
      "metadata": {
        "colab": {
          "base_uri": "https://localhost:8080/"
        },
        "id": "9il3TtBmFJJG",
        "outputId": "d451ab7b-5f3c-4339-d557-647b6533250d"
      },
      "outputs": [
        {
          "name": "stdout",
          "output_type": "stream",
          "text": [
            "Requirement already satisfied: pillow in /usr/local/lib/python3.10/dist-packages (10.4.0)\n"
          ]
        }
      ],
      "source": [
        "!pip install -U pillow"
      ]
    },
    {
      "cell_type": "code",
      "execution_count": null,
      "metadata": {
        "id": "E2ZD4axBDHj1"
      },
      "outputs": [],
      "source": [
        "from rembg import remove\n",
        "import requests\n",
        "from PIL import Image\n",
        "from io import BytesIO\n",
        "import os"
      ]
    },
    {
      "cell_type": "code",
      "execution_count": null,
      "metadata": {
        "id": "-xkjYDQRDHmt"
      },
      "outputs": [],
      "source": [
        "import os\n",
        "\n",
        "os.makedirs(\"original\", exist_ok=True)\n",
        "os.makedirs(\"masked\", exist_ok=True)\n"
      ]
    },
    {
      "cell_type": "code",
      "execution_count": null,
      "metadata": {
        "colab": {
          "base_uri": "https://localhost:8080/"
        },
        "id": "1HsNRzj-DHu7",
        "outputId": "91bd9544-df45-44b3-fe77-48ada4b81efb"
      },
      "outputs": [
        {
          "name": "stdout",
          "output_type": "stream",
          "text": [
            "Image saved as image.jpg\n"
          ]
        }
      ],
      "source": [
        "# Example image URL and name\n",
        "img_url = 'https://rukminim2.flixcart.com/image/850/1000/khwbde80-0/poster/v/p/p/medium-beautiful-white-horse-wall-sticker-poster-poster-for-wall-original-imafxtcpvjgdjhpx.jpeg?q=90&crop=false'\n",
        "img_name = \"image.jpg\"\n",
        "\n",
        "# Fetch the image\n",
        "response = requests.get(img_url)\n",
        "\n",
        "# Check if the content is an image\n",
        "if 'image' in response.headers['Content-Type']:\n",
        "    img = Image.open(BytesIO(response.content))\n",
        "    img.save(f\"original/{img_name}\")\n",
        "    print(f\"Image saved as {img_name}\")\n",
        "else:\n",
        "    print(f\"The URL did not return an image. Content-Type: {response.headers['Content-Type']}\")\n"
      ]
    },
    {
      "cell_type": "code",
      "execution_count": null,
      "metadata": {
        "colab": {
          "base_uri": "https://localhost:8080/",
          "height": 36
        },
        "id": "97LrN2TeDHxx",
        "outputId": "7a1db08b-d4ad-4af9-b768-f1ea63c68591"
      },
      "outputs": [
        {
          "data": {
            "application/vnd.google.colaboratory.intrinsic+json": {
              "type": "string"
            },
            "text/plain": [
              "'masked/image.jpg'"
            ]
          },
          "execution_count": 26,
          "metadata": {},
          "output_type": "execute_result"
        }
      ],
      "source": [
        "output_path = 'masked/'+img_name\n",
        "output_path"
      ]
    },
    {
      "cell_type": "code",
      "execution_count": null,
      "metadata": {
        "id": "NhSkqSJKDHz0"
      },
      "outputs": [],
      "source": [
        "with open(output_path, 'wb') as f:\n",
        "    input = open('original/'+img_name, 'rb').read()\n",
        "    subject = remove(input,alpha_matting=True,alpha_matting_background_threshold=50)\n",
        "    f.write(subject)"
      ]
    },
    {
      "cell_type": "code",
      "execution_count": 43,
      "metadata": {
        "colab": {
          "base_uri": "https://localhost:8080/"
        },
        "id": "bHvdKrrLDH3a",
        "outputId": "7444a475-1b20-4c5e-f33d-88af907cddd2"
      },
      "outputs": [
        {
          "name": "stdout",
          "output_type": "stream",
          "text": [
            "Image saved successfully.\n"
          ]
        }
      ],
      "source": [
        "background_img_url = 'https://static.bhphotovideo.com/explora/sites/default/files/03-shutterstock_97696616.jpg'\n",
        "background_img_name = 'background.jpg'\n",
        "\n",
        "foreground_img_path = 'masked/image.jpg'\n",
        "\n",
        "response = requests.get(background_img_url)\n",
        "background_img = Image.open(BytesIO(response.content))\n",
        "\n",
        "background_img.save(f'original/{background_img_name}')\n",
        "\n",
        "foreground_img = Image.open(foreground_img_path)\n",
        "\n",
        "background_img = background_img.resize(foreground_img.size)\n",
        "\n",
        "if foreground_img.mode != 'RGBA':\n",
        "    foreground_img = foreground_img.convert('RGBA')\n",
        "\n",
        "background_img.paste(foreground_img, (0, 0), foreground_img)\n",
        "\n",
        "background_img.save('masked/final_image.jpg', format='JPEG')\n",
        "\n",
        "print(\"Image saved successfully.\")\n"
      ]
    }
  ],
  "metadata": {
    "colab": {
      "provenance": []
    },
    "kernelspec": {
      "display_name": "Python 3",
      "name": "python3"
    },
    "language_info": {
      "name": "python"
    }
  },
  "nbformat": 4,
  "nbformat_minor": 0
}
