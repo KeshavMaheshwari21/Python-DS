{
 "cells": [
  {
   "cell_type": "markdown",
   "metadata": {},
   "source": [
    "<b><h1>CNN (Convolutional Neural Network)</h1></b>\n",
    "<h2>Computer Vision</h2>\n",
    "\n",
    "<h2>-> Dog Cat Image Classification</h2>\n"
   ]
  },
  {
   "cell_type": "code",
   "execution_count": null,
   "metadata": {},
   "outputs": [],
   "source": [
    "import numpy as np\n",
    "import cv2 # opencv\n",
    "from PIL import Image # pillow\n",
    "import matplotlib.pyplot as plt\n",
    "import seaborn as sns"
   ]
  },
  {
   "cell_type": "code",
   "execution_count": null,
   "metadata": {},
   "outputs": [],
   "source": [
    "cat_img_path = r\"C:\\Users\\hp\\OneDrive\\Desktop\\day 35\\data\\images\\cats\\cat_38.jpg\"\n",
    "cat = Image.open(cat_img_path)"
   ]
  },
  {
   "cell_type": "code",
   "execution_count": null,
   "metadata": {},
   "outputs": [],
   "source": [
    "cat"
   ]
  },
  {
   "cell_type": "code",
   "execution_count": null,
   "metadata": {},
   "outputs": [],
   "source": [
    "type(cat)"
   ]
  },
  {
   "cell_type": "code",
   "execution_count": null,
   "metadata": {},
   "outputs": [],
   "source": [
    "cat_in_pixel = np.array(cat)"
   ]
  },
  {
   "cell_type": "code",
   "execution_count": null,
   "metadata": {},
   "outputs": [],
   "source": [
    "cat_in_pixel"
   ]
  },
  {
   "cell_type": "code",
   "execution_count": null,
   "metadata": {},
   "outputs": [],
   "source": [
    "cat_in_pixel.shape"
   ]
  },
  {
   "cell_type": "code",
   "execution_count": null,
   "metadata": {},
   "outputs": [],
   "source": [
    "import os\n",
    "\n",
    "cat_images_dir = r\"C:\\Users\\hp\\OneDrive\\Desktop\\day 35\\data\\images\\cats\"\n",
    "dog_images_dir = r\"C:\\Users\\hp\\OneDrive\\Desktop\\day 35\\data\\images\\dogs\"\n",
    "\n",
    "path_dt = {\n",
    "    \"cats\": [],\n",
    "    \"dogs\": []\n",
    "}\n",
    "\n",
    "def collect_image_paths(directory, extensions=('.jpg', '.jpeg', '.png')):\n",
    "    image_paths = []\n",
    "    for filename in os.listdir(directory):\n",
    "        if filename.lower().endswith(extensions):\n",
    "            image_paths.append(os.path.join(directory, filename))\n",
    "    return image_paths\n",
    "\n",
    "path_dt['cats'] = collect_image_paths(cat_images_dir)\n",
    "\n",
    "path_dt['dogs'] = collect_image_paths(dog_images_dir)\n",
    "\n",
    "print(path_dt)\n",
    "\n",
    "len(path_dt['cats'])"
   ]
  },
  {
   "cell_type": "code",
   "execution_count": null,
   "metadata": {},
   "outputs": [],
   "source": [
    "from pathlib import Path\n",
    "\n",
    "base_directory = r\"./Data/images\"\n",
    "for dir_path in os.listdir(base_directory):\n",
    "  full_path = os.path.join(base_directory, dir_path)\n",
    "  print(Path(full_path))"
   ]
  },
  {
   "cell_type": "code",
   "execution_count": null,
   "metadata": {},
   "outputs": [],
   "source": [
    "from pathlib import Path\n",
    "\n",
    "base_directory = r\"./Data/images\"\n",
    "for dir_path in os.listdir(base_directory):\n",
    "  full_path = os.path.join(base_directory, dir_path)\n",
    "  print(f\"{Path(full_path)}\")"
   ]
  },
  {
   "cell_type": "code",
   "execution_count": null,
   "metadata": {},
   "outputs": [],
   "source": [
    "Image.open(path_dt['dogs'][10])"
   ]
  },
  {
   "cell_type": "code",
   "execution_count": null,
   "metadata": {},
   "outputs": [],
   "source": [
    "sample_img = cv2.imread(path_dt['dogs'][20])\n",
    "reduce_img = cv2.resize(sample_img,(224,224))\n",
    "reduce_img.shape"
   ]
  },
  {
   "cell_type": "code",
   "execution_count": null,
   "metadata": {},
   "outputs": [],
   "source": [
    "# x = []\n",
    "# y = []\n",
    "\n",
    "# for i in path_dt['cats']:\n",
    "#     sample_img = cv2.imread(path_dt['cats'][20])\n",
    "#     reduce_img = cv2.resize(sample_img,(224,224))\n",
    "#     x.append(reduce_img)\n",
    "#     y.append('cats')\n",
    "# for i in path_dt['dogs']:\n",
    "#     sample_img = cv2.imread(path_dt['dogs'][20])\n",
    "#     reduce_img = cv2.resize(sample_img,(224,224))\n",
    "#     x.append(reduce_img)\n",
    "#     y.append('dogs')\n"
   ]
  },
  {
   "cell_type": "code",
   "execution_count": null,
   "metadata": {},
   "outputs": [],
   "source": [
    "x=[]\n",
    "y=[]\n",
    "\n",
    "for class_name,paths in path_dt.items():\n",
    "    for path in paths:\n",
    "        sample_img = cv2.imread(path)\n",
    "        reduce_img = cv2.resize(sample_img,(224,224))\n",
    "        x.append(reduce_img)\n",
    "        y.append(class_name)"
   ]
  },
  {
   "cell_type": "code",
   "execution_count": null,
   "metadata": {},
   "outputs": [],
   "source": [
    "len(x) , len(y)"
   ]
  },
  {
   "cell_type": "code",
   "execution_count": null,
   "metadata": {},
   "outputs": [],
   "source": [
    "Y = []\n",
    "for item in y:\n",
    "    if item == 'cats':\n",
    "        Y.append(1)\n",
    "    else:\n",
    "        Y.append(0)\n"
   ]
  },
  {
   "cell_type": "code",
   "execution_count": null,
   "metadata": {},
   "outputs": [],
   "source": [
    "set(Y)"
   ]
  },
  {
   "cell_type": "code",
   "execution_count": null,
   "metadata": {},
   "outputs": [],
   "source": [
    "Y"
   ]
  },
  {
   "cell_type": "code",
   "execution_count": null,
   "metadata": {},
   "outputs": [],
   "source": [
    "X = np.array(x)\n",
    "Y = np.array(Y)"
   ]
  },
  {
   "cell_type": "code",
   "execution_count": null,
   "metadata": {},
   "outputs": [],
   "source": [
    "X"
   ]
  },
  {
   "cell_type": "code",
   "execution_count": null,
   "metadata": {},
   "outputs": [],
   "source": [
    "X.ndim"
   ]
  },
  {
   "cell_type": "code",
   "execution_count": null,
   "metadata": {},
   "outputs": [],
   "source": [
    "type(X) , type(Y)"
   ]
  },
  {
   "cell_type": "code",
   "execution_count": null,
   "metadata": {},
   "outputs": [],
   "source": [
    "X.shape\n",
    "# 697 images \n",
    "# "
   ]
  },
  {
   "cell_type": "code",
   "execution_count": null,
   "metadata": {},
   "outputs": [],
   "source": [
    "plt.imshow(X[255])\n",
    "plt.title(y[255])\n",
    "plt.axis('off')\n",
    "plt.show()"
   ]
  },
  {
   "cell_type": "code",
   "execution_count": null,
   "metadata": {},
   "outputs": [],
   "source": [
    "# plt.imshow(np.random.randint(0,255,(224,224,3)))\n",
    "# plt.show()"
   ]
  },
  {
   "cell_type": "code",
   "execution_count": null,
   "metadata": {},
   "outputs": [],
   "source": [
    "X = X/255.0"
   ]
  },
  {
   "cell_type": "code",
   "execution_count": null,
   "metadata": {},
   "outputs": [],
   "source": [
    "X"
   ]
  },
  {
   "cell_type": "code",
   "execution_count": null,
   "metadata": {},
   "outputs": [],
   "source": [
    "x"
   ]
  },
  {
   "cell_type": "code",
   "execution_count": null,
   "metadata": {},
   "outputs": [],
   "source": [
    "plt.imshow(X[255])\n",
    "plt.title(y[255])\n",
    "plt.axis('off')\n",
    "plt.show()"
   ]
  },
  {
   "cell_type": "code",
   "execution_count": null,
   "metadata": {},
   "outputs": [],
   "source": [
    "plt.imshow(x[255])\n",
    "plt.title(y[255])\n",
    "plt.axis('off')\n",
    "plt.show()"
   ]
  },
  {
   "cell_type": "code",
   "execution_count": null,
   "metadata": {},
   "outputs": [],
   "source": [
    "from sklearn.model_selection import train_test_split"
   ]
  },
  {
   "cell_type": "code",
   "execution_count": null,
   "metadata": {},
   "outputs": [],
   "source": [
    "x_train,x_test,y_train,y_test = train_test_split(X,Y,test_size=0.15,random_state=42)"
   ]
  },
  {
   "cell_type": "code",
   "execution_count": null,
   "metadata": {},
   "outputs": [],
   "source": [
    "from tensorflow.keras.models import Sequential\n",
    "from tensorflow.keras import layers"
   ]
  },
  {
   "cell_type": "code",
   "execution_count": null,
   "metadata": {},
   "outputs": [],
   "source": [
    "cnn_model = Sequential([\n",
    "    # Convolutional layers\n",
    "    layers.Conv2D(64, (3,3), activation='relu', input_shape=(224, 224, 3)),\n",
    "    layers.MaxPooling2D((2, 2)),\n",
    "    \n",
    "    layers.Conv2D(40, (3,3), activation='relu'),\n",
    "    layers.MaxPooling2D((2, 2)),\n",
    "    \n",
    "    layers.Conv2D(30, (3,3), activation='relu'),\n",
    "\n",
    "    #flattening layer\n",
    "    layers.Flatten(),\n",
    "\n",
    "    # Dense layers for classification\n",
    "    layers.Dense(45, activation='relu'),\n",
    "    layers.Dense(24, activation='relu'),\n",
    "    \n",
    "    layers.Dense(1, activation='sigmoid')\n",
    "])\n",
    "\n",
    "# Compile the model\n",
    "cnn_model.compile(optimizer='adam',\n",
    "              loss='binary_crossentropy',\n",
    "              metrics=['accuracy'])\n",
    "\n",
    "# Print model summary for a detailed overview\n",
    "cnn_model.summary()"
   ]
  },
  {
   "cell_type": "code",
   "execution_count": null,
   "metadata": {},
   "outputs": [],
   "source": [
    "# Model Training \n",
    "history = cnn_model.fit(x_train,y_train,epochs=10,validation_data=(x_test,y_test))"
   ]
  },
  {
   "cell_type": "code",
   "execution_count": null,
   "metadata": {},
   "outputs": [],
   "source": [
    "import pandas as pd\n",
    "\n",
    "pd.DataFrame(history.history).plot()"
   ]
  },
  {
   "cell_type": "code",
   "execution_count": null,
   "metadata": {},
   "outputs": [],
   "source": [
    "prediction = cnn_model.predict(x_test)"
   ]
  },
  {
   "cell_type": "code",
   "execution_count": null,
   "metadata": {},
   "outputs": [],
   "source": [
    "pred = (prediction > 0.5).astype(int).ravel()"
   ]
  },
  {
   "cell_type": "code",
   "execution_count": null,
   "metadata": {},
   "outputs": [],
   "source": [
    "pred"
   ]
  },
  {
   "cell_type": "code",
   "execution_count": null,
   "metadata": {},
   "outputs": [],
   "source": [
    "compare_df = pd.DataFrame({\"Actual\":y_test,\"Prediction\":pred})\n",
    "compare_df.head(20)"
   ]
  },
  {
   "cell_type": "code",
   "execution_count": null,
   "metadata": {},
   "outputs": [],
   "source": [
    "from sklearn.metrics import confusion_matrix,classification_report\n",
    "\n",
    "matrix = confusion_matrix(compare_df['Actual'],compare_df['Prediction'])\n",
    "\n",
    "sns.heatmap(matrix,annot=True,fmt='d')\n",
    "plt.title(\"Confusion Matrix\")\n",
    "plt.axis('off')\n",
    "plt.show()"
   ]
  },
  {
   "cell_type": "code",
   "execution_count": null,
   "metadata": {},
   "outputs": [],
   "source": [
    "print(\"Classification Report!\")\n",
    "\n",
    "print(classification_report(compare_df['Actual'],compare_df['Prediction']))"
   ]
  },
  {
   "cell_type": "code",
   "execution_count": null,
   "metadata": {},
   "outputs": [],
   "source": [
    "# Saving the models\n",
    "\n",
    "import os\n",
    "\n",
    "os.makedirs('prediction',exist_ok=True)\n",
    "os.makedirs('models',exist_ok=True)\n",
    "\n",
    "compare_df['Actual'] = compare_df['Actual'].replace({1: 'cats', 0: 'dogs'})\n",
    "compare_df['Prediction'] = compare_df['Prediction'].replace({1: 'cats', 0: 'dogs'})\n",
    "\n",
    "\n",
    "compare_df.to_csv('prediction/predicted.csv',index=False)\n",
    "cnn_model.save('models/cnn_model.h5')"
   ]
  },
  {
   "cell_type": "code",
   "execution_count": null,
   "metadata": {},
   "outputs": [],
   "source": [
    "compare_df"
   ]
  }
 ],
 "metadata": {
  "kernelspec": {
   "display_name": "Python 3",
   "language": "python",
   "name": "python3"
  },
  "language_info": {
   "codemirror_mode": {
    "name": "ipython",
    "version": 3
   },
   "file_extension": ".py",
   "mimetype": "text/x-python",
   "name": "python",
   "nbconvert_exporter": "python",
   "pygments_lexer": "ipython3",
   "version": "3.12.4"
  }
 },
 "nbformat": 4,
 "nbformat_minor": 2
}
